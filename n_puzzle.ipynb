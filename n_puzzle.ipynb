{
 "cells": [
  {
   "cell_type": "markdown",
   "metadata": {},
   "source": [
    "# n-puzzle problem"
   ]
  },
  {
   "cell_type": "code",
   "execution_count": 115,
   "metadata": {},
   "outputs": [],
   "source": [
    "from collections import namedtuple\n",
    "from random import choice\n",
    "from tqdm.auto import tqdm\n",
    "import numpy as np\n",
    "import functools"
   ]
  },
  {
   "cell_type": "code",
   "execution_count": 116,
   "metadata": {},
   "outputs": [],
   "source": [
    "PUZZLE_DIM = 4\n",
    "action = namedtuple('Action', ['pos1', 'pos2'])"
   ]
  },
  {
   "cell_type": "markdown",
   "metadata": {},
   "source": [
    "## Utility functions"
   ]
  },
  {
   "cell_type": "code",
   "execution_count": 117,
   "metadata": {},
   "outputs": [],
   "source": [
    "def counter(fn):\n",
    "    \"\"\"Simple decorator for counting number of calls\"\"\"\n",
    "\n",
    "    @functools.wraps(fn)\n",
    "    def helper(*args, **kargs):\n",
    "        helper.calls += 1\n",
    "        return fn(*args, **kargs)\n",
    "\n",
    "    helper.calls = 0\n",
    "    return helper"
   ]
  },
  {
   "cell_type": "code",
   "execution_count": null,
   "metadata": {},
   "outputs": [],
   "source": [
    "class State :\n",
    "    def __init__(self, matrix: np.ndarray):\n",
    "        self.matrix = matrix\n",
    "        self.g = float('inf') #cost root to current\n",
    "        self.f = float('inf') #cost root to goal\n",
    "        self.h = float('inf') #heuristic : estimated cost from current to goal\n",
    "\n",
    "    #check if the current state contains a matrix that represents the solution\n",
    "    def is_goal(self):\n",
    "        return np.array_equal(self.matrix, np.array([i for i in range(1, PUZZLE_DIM**2)] + [0]).reshape((PUZZLE_DIM, PUZZLE_DIM)))\n",
    "   \n",
    "    def is_solvable(self) -> bool:\n",
    "        inv_count = 0\n",
    "        tmp_state = self.matrix.copy().reshape(PUZZLE_DIM**2)\n",
    "\n",
    "        # Count inversions\n",
    "        for i in range(0, PUZZLE_DIM**2):\n",
    "            for j in range(i + 1, PUZZLE_DIM**2):\n",
    "                if tmp_state[j] != 0 and tmp_state[i] != 0 and tmp_state[i] > tmp_state[j]:\n",
    "                    inv_count += 1\n",
    "\n",
    "        if PUZZLE_DIM % 2 != 0:  # Odd grid size\n",
    "            return inv_count % 2 == 0\n",
    "        else:  # Even grid size\n",
    "            blank_row = PUZZLE_DIM - np.where(self.matrix == 0)[0][0] # Row of blank (from bottom)\n",
    "        return (inv_count + blank_row) % 2 != 0"
   ]
  },
  {
   "cell_type": "code",
   "execution_count": 201,
   "metadata": {},
   "outputs": [],
   "source": [
    "def cost_root_to_current(path : list):\n",
    "    return len(path)\n",
    "\n",
    "def manhattan_heuristic(state:State,goal_state:State)->int:\n",
    "    manhattan = 0\n",
    "    for elem in range(1,PUZZLE_DIM**2):\n",
    "        start_coords = np.where(state.matrix == elem)\n",
    "        end_coords = np.where(goal_state.matrix == elem)\n",
    "        manhattan+=  abs(start_coords[0]-end_coords[0])+abs(start_coords[1]-end_coords[1])\n",
    "    \n",
    "    return manhattan\n",
    "    # linear_conflict_penalty = 0\n",
    "\n",
    "    # for i in range(PUZZLE_DIM):\n",
    "    #     # Row conflicts\n",
    "    #     goal_row = {np.int64(goal_state.matrix[i][j]): j for j in range(PUZZLE_DIM)}\n",
    "    #     row = state.matrix[i]\n",
    "    #     for j in range(PUZZLE_DIM):\n",
    "    #         for k in range(j + 1, PUZZLE_DIM):\n",
    "    #             if row[j] != 0 and row[k] != 0 and goal_row[row[j]] > goal_row[row[k]]:\n",
    "    #                 linear_conflict_penalty += 2\n",
    "\n",
    "    #     # Column conflicts\n",
    "    #     goal_col = {np.int64(goal_state.matrix[j][i]): j for j in range(PUZZLE_DIM)}\n",
    "    #     col = [state.matrix[j][i] for j in range(PUZZLE_DIM)]\n",
    "    #     for j in range(PUZZLE_DIM):\n",
    "    #         for k in range(j + 1, PUZZLE_DIM):\n",
    "    #             if col[j] != 0 and col[k] != 0 and goal_col[col[j]] > goal_col[col[k]]:\n",
    "    #                 linear_conflict_penalty += 2\n",
    "\n",
    "    # return manhattan + linear_conflict_penalty\n",
    "\n",
    "\n",
    "class WalkingDistance:\n",
    "    def __init__(self, puzzle_dim):\n",
    "        self.puzzle_dim = puzzle_dim\n",
    "        self.row_table = self._precompute_tables(is_row=True)\n",
    "        self.col_table = self._precompute_tables(is_row=False)\n",
    "\n",
    "    def _precompute_tables(self, is_row):\n",
    "        \"\"\"\n",
    "        Precompute the walking distance tables for rows or columns.\n",
    "        Each entry in the table represents the number of moves required for a tile\n",
    "        to move from one position to another in the same row or column.\n",
    "        \"\"\"\n",
    "        table = {}\n",
    "        for tile in range(1, self.puzzle_dim**2):  # Exclude the blank tile (0)\n",
    "            table[tile] = self._precompute_tile_distances(tile, is_row)\n",
    "        return table\n",
    "\n",
    "    def _precompute_tile_distances(self, tile, is_row):\n",
    "        \"\"\"\n",
    "        Precompute distances for a specific tile in either rows or columns.\n",
    "        \"\"\"\n",
    "        table = {}\n",
    "        for position in range(self.puzzle_dim):\n",
    "            distances = [0] * self.puzzle_dim\n",
    "            for target in range(self.puzzle_dim):\n",
    "                distances[target] = abs(target - position)\n",
    "            table[position] = distances\n",
    "        return table\n",
    "\n",
    "    def calculate(self, state: State, goal_state: State) -> int:\n",
    "        \"\"\"\n",
    "        Compute the walking distance heuristic for a given state and goal state.\n",
    "        \"\"\"\n",
    "        wd = 0\n",
    "\n",
    "        # Calculate row conflicts\n",
    "        for row in range(self.puzzle_dim):\n",
    "            wd += self._calculate_conflict(state, goal_state, row, is_row=True)\n",
    "\n",
    "        # Calculate column conflicts\n",
    "        for col in range(self.puzzle_dim):\n",
    "            wd += self._calculate_conflict(state, goal_state, col, is_row=False)\n",
    "\n",
    "        return wd\n",
    "\n",
    "    def _calculate_conflict(self, state: State, goal_state: State, index: int, is_row: bool) -> int:\n",
    "        \"\"\"\n",
    "        Calculate the conflicts for a specific row or column.\n",
    "        \"\"\"\n",
    "        # Extract the row or column tiles\n",
    "        if is_row:\n",
    "            tiles = state.matrix[index, :]\n",
    "            goal_tiles = goal_state.matrix[index, :]\n",
    "        else:\n",
    "            tiles = state.matrix[:, index]\n",
    "            goal_tiles = goal_state.matrix[:, index]\n",
    "\n",
    "        # Exclude the blank tile (0)\n",
    "        tiles = tiles[tiles != 0]\n",
    "        goal_tiles = goal_tiles[goal_tiles != 0]\n",
    "\n",
    "        # Calculate walking distance for the current row or column\n",
    "        distance = 0\n",
    "        for tile in tiles:\n",
    "            current_pos = np.where(state.matrix == tile)\n",
    "            target_pos = np.where(goal_state.matrix == tile)\n",
    "\n",
    "            if is_row:\n",
    "                current_idx = current_pos[1][0]  # Column index\n",
    "                target_idx = target_pos[1][0]\n",
    "                distance += self.row_table[tile][current_idx][target_idx]\n",
    "            else:\n",
    "                current_idx = current_pos[0][0]  # Row index\n",
    "                target_idx = target_pos[0][0]\n",
    "                distance += self.col_table[tile][current_idx][target_idx]\n",
    "\n",
    "        return distance\n",
    "\n",
    "\n",
    "def available_actions(state: State) -> list['Action']:\n",
    "    x, y = [int(_[0]) for _ in np.where(state.matrix == 0)]\n",
    "    actions = list()\n",
    "    if x > 0:\n",
    "        actions.append(action((x, y), (x - 1, y)))\n",
    "    if x < PUZZLE_DIM - 1:\n",
    "        actions.append(action((x, y), (x + 1, y)))\n",
    "    if y > 0:\n",
    "        actions.append(action((x, y), (x, y - 1)))\n",
    "    if y < PUZZLE_DIM - 1:\n",
    "        actions.append(action((x, y), (x, y + 1)))\n",
    "    return actions\n",
    "\n",
    "\n",
    "@counter\n",
    "def do_action(state: State, action: 'Action') -> State:\n",
    "    new_state = state.matrix.copy()\n",
    "    new_state[action.pos1], new_state[action.pos2] = new_state[action.pos2], new_state[action.pos1]\n",
    "    return State(new_state)\n",
    "\n",
    "def print_solution(solution : tuple[list,int]):\n",
    "    if solution[0] == None:\n",
    "        print(\"No solution was found\")\n",
    "    else:\n",
    "        print(f\"Solution was found in {len(solution[0])} steps with cost of {do_action.calls}\")\n",
    "        print(\"Solution path:\")\n",
    "        for state in solution[0]:\n",
    "            print(state.matrix)\n",
    "            print()\n"
   ]
  },
  {
   "cell_type": "markdown",
   "metadata": {},
   "source": [
    "## IDA*"
   ]
  },
  {
   "cell_type": "code",
   "execution_count": 120,
   "metadata": {},
   "outputs": [],
   "source": [
    "# takes as parameter a state and a heuristic function\n",
    "def ida_star(initial_state : State, goal_state : State, heuristic):\n",
    "    bound = heuristic(initial_state,goal_state)\n",
    "    path = [initial_state]\n",
    "\n",
    "    while True:\n",
    "        t = search(path, 0, bound, heuristic, goal_state, set())\n",
    "        if t < 0: ## FOUND = -1\n",
    "            return (path, bound)\n",
    "        elif t == float('inf'):\n",
    "            return (None, float('inf')) \n",
    "        else: # t belongs to [0,inf[\n",
    "            bound = t\n",
    "           # path.push(t)\n",
    "\n",
    "def search(path : list, g : float, bound : int, h, goal_state : State, visited = set()) :\n",
    "    node = path[-1]\n",
    "    f = g + h(node, goal_state)\n",
    "    if f > bound :\n",
    "        return f\n",
    "    if node.is_goal():\n",
    "        return -1 # FOUND\n",
    "    \n",
    "    min = float('inf')\n",
    "    visited.add(node)\n",
    "\n",
    "    successors = [do_action(node, action) for action in available_actions(node)]\n",
    "\n",
    "    for successor in sorted(successors, key=lambda s: h(s, goal_state)):\n",
    "        if successor not in visited:\n",
    "            path.append(successor)\n",
    "            t = search(path, g + 1, bound, h, goal_state, visited)\n",
    "            if t == -1:\n",
    "                return -1\n",
    "            if t < min :\n",
    "                min = t\n",
    "            path.pop()\n",
    "\n",
    "\n",
    "    visited.remove(node) #backtrack\n",
    "    return min"
   ]
  },
  {
   "cell_type": "markdown",
   "metadata": {},
   "source": [
    "### simple 3x3 test"
   ]
  },
  {
   "cell_type": "code",
   "execution_count": 121,
   "metadata": {},
   "outputs": [
    {
     "ename": "ValueError",
     "evalue": "cannot reshape array of size 9 into shape (16,)",
     "output_type": "error",
     "traceback": [
      "\u001b[1;31m---------------------------------------------------------------------------\u001b[0m",
      "\u001b[1;31mValueError\u001b[0m                                Traceback (most recent call last)",
      "Cell \u001b[1;32mIn[121], line 3\u001b[0m\n\u001b[0;32m      1\u001b[0m \u001b[38;5;66;03m#state = State(np.array([np.array([1,8,2]),np.array([0,4,3]),np.array([7,6,5])]))\u001b[39;00m\n\u001b[0;32m      2\u001b[0m state \u001b[38;5;241m=\u001b[39m State(np\u001b[38;5;241m.\u001b[39marray([np\u001b[38;5;241m.\u001b[39marray([\u001b[38;5;241m0\u001b[39m,\u001b[38;5;241m2\u001b[39m,\u001b[38;5;241m1\u001b[39m]),np\u001b[38;5;241m.\u001b[39marray([\u001b[38;5;241m3\u001b[39m,\u001b[38;5;241m7\u001b[39m,\u001b[38;5;241m5\u001b[39m]),np\u001b[38;5;241m.\u001b[39marray([\u001b[38;5;241m8\u001b[39m,\u001b[38;5;241m6\u001b[39m,\u001b[38;5;241m4\u001b[39m])]))\n\u001b[1;32m----> 3\u001b[0m \u001b[38;5;28mprint\u001b[39m(\u001b[43mstate\u001b[49m\u001b[38;5;241;43m.\u001b[39;49m\u001b[43mis_solvable\u001b[49m\u001b[43m(\u001b[49m\u001b[43m)\u001b[49m)\n",
      "Cell \u001b[1;32mIn[118], line 14\u001b[0m, in \u001b[0;36mState.is_solvable\u001b[1;34m(self)\u001b[0m\n\u001b[0;32m     12\u001b[0m \u001b[38;5;28;01mdef\u001b[39;00m \u001b[38;5;21mis_solvable\u001b[39m(\u001b[38;5;28mself\u001b[39m) \u001b[38;5;241m-\u001b[39m\u001b[38;5;241m>\u001b[39m \u001b[38;5;28mbool\u001b[39m:\n\u001b[0;32m     13\u001b[0m     inv_count \u001b[38;5;241m=\u001b[39m \u001b[38;5;241m0\u001b[39m\n\u001b[1;32m---> 14\u001b[0m     tmp_state \u001b[38;5;241m=\u001b[39m \u001b[38;5;28;43mself\u001b[39;49m\u001b[38;5;241;43m.\u001b[39;49m\u001b[43mmatrix\u001b[49m\u001b[38;5;241;43m.\u001b[39;49m\u001b[43mcopy\u001b[49m\u001b[43m(\u001b[49m\u001b[43m)\u001b[49m\u001b[38;5;241;43m.\u001b[39;49m\u001b[43mreshape\u001b[49m\u001b[43m(\u001b[49m\u001b[43mPUZZLE_DIM\u001b[49m\u001b[38;5;241;43m*\u001b[39;49m\u001b[38;5;241;43m*\u001b[39;49m\u001b[38;5;241;43m2\u001b[39;49m\u001b[43m)\u001b[49m\n\u001b[0;32m     16\u001b[0m     \u001b[38;5;66;03m# Count inversions\u001b[39;00m\n\u001b[0;32m     17\u001b[0m     \u001b[38;5;28;01mfor\u001b[39;00m i \u001b[38;5;129;01min\u001b[39;00m \u001b[38;5;28mrange\u001b[39m(\u001b[38;5;241m0\u001b[39m, PUZZLE_DIM\u001b[38;5;241m*\u001b[39m\u001b[38;5;241m*\u001b[39m\u001b[38;5;241m2\u001b[39m):\n",
      "\u001b[1;31mValueError\u001b[0m: cannot reshape array of size 9 into shape (16,)"
     ]
    }
   ],
   "source": [
    "#state = State(np.array([np.array([1,8,2]),np.array([0,4,3]),np.array([7,6,5])]))\n",
    "state = State(np.array([np.array([0,2,1]),np.array([3,7,5]),np.array([8,6,4])]))\n",
    "print(state.is_solvable())"
   ]
  },
  {
   "cell_type": "markdown",
   "metadata": {},
   "source": [
    "### complex 5x5 test"
   ]
  },
  {
   "cell_type": "code",
   "execution_count": null,
   "metadata": {},
   "outputs": [
    {
     "name": "stdout",
     "output_type": "stream",
     "text": [
      "True\n",
      "True\n"
     ]
    }
   ],
   "source": [
    "state = np.array([[13,  9,  0, 10, 19],\n",
    "                [ 3, 21, 14,  5,  8],\n",
    "                [22, 16,  4, 24, 18],\n",
    "                [ 6,  2, 11,  1, 20],\n",
    "                [ 7, 15,23,12,17]])\n",
    "\n",
    "state = State(state)\n",
    "print(state.is_solvable())\n",
    "print(is_solvable(state.matrix))"
   ]
  },
  {
   "cell_type": "markdown",
   "metadata": {},
   "source": [
    "###  4x4 test"
   ]
  },
  {
   "cell_type": "code",
   "execution_count": 202,
   "metadata": {},
   "outputs": [
    {
     "name": "stdout",
     "output_type": "stream",
     "text": [
      "1\n",
      "64\n",
      "True\n"
     ]
    }
   ],
   "source": [
    "state = np.array([[14,  13,  15, 8],\n",
    "                [ 1, 4 , 12, 6],\n",
    "                [2, 7,  10, 3],\n",
    "                [ 11,  5, 0,  9]])\n",
    "\n",
    "state = State(state)\n",
    "print(state.is_solvable())"
   ]
  },
  {
   "cell_type": "code",
   "execution_count": 162,
   "metadata": {},
   "outputs": [
    {
     "name": "stdout",
     "output_type": "stream",
     "text": [
      "1\n",
      "48\n",
      "True\n"
     ]
    }
   ],
   "source": [
    "state = np.array([[12,  1,  2, 15],\n",
    "                [ 11, 6 , 5,8],\n",
    "                [7, 10,  9, 4],\n",
    "                [ 0,  13, 14,  3]])\n",
    "\n",
    "state = State(state)\n",
    "print(state.is_solvable())"
   ]
  },
  {
   "cell_type": "markdown",
   "metadata": {},
   "source": [
    "### random state"
   ]
  },
  {
   "cell_type": "code",
   "execution_count": 197,
   "metadata": {},
   "outputs": [
    {
     "data": {
      "application/vnd.jupyter.widget-view+json": {
       "model_id": "4c7f25509cab4d01821ab7a692096e8c",
       "version_major": 2,
       "version_minor": 0
      },
      "text/plain": [
       "Randomizing:   0%|          | 0/250 [00:00<?, ?it/s]"
      ]
     },
     "metadata": {},
     "output_type": "display_data"
    },
    {
     "name": "stdout",
     "output_type": "stream",
     "text": [
      "4\n",
      "55\n",
      "True\n",
      "[[13  7  0  5]\n",
      " [ 6  9 14  4]\n",
      " [11  2 15  1]\n",
      " [10  3  8 12]]\n"
     ]
    }
   ],
   "source": [
    "RANDOMIZE_STEPS = 250\n",
    "solvable = False\n",
    "state = State(np.array([i for i in range(1, PUZZLE_DIM**2)] + [0]).reshape((PUZZLE_DIM, PUZZLE_DIM)))\n",
    "\n",
    "# while not solvable:\n",
    "\n",
    "for r in tqdm(range(RANDOMIZE_STEPS), desc='Randomizing'):\n",
    "    state = do_action(state, choice(available_actions(state)))\n",
    "\n",
    "    # solvable = is_solvable(state.matrix)\n",
    "print(state.is_solvable())\n",
    "print(state.matrix)"
   ]
  },
  {
   "cell_type": "markdown",
   "metadata": {},
   "source": [
    "### find solution"
   ]
  },
  {
   "cell_type": "code",
   "execution_count": null,
   "metadata": {},
   "outputs": [
    {
     "name": "stdout",
     "output_type": "stream",
     "text": [
      "[[14 13 15  8]\n",
      " [ 1  4 12  6]\n",
      " [ 2  7 10  3]\n",
      " [11  5  0  9]]\n",
      "1\n",
      "64\n"
     ]
    }
   ],
   "source": [
    "wd_heuristic = WalkingDistance(PUZZLE_DIM)\n",
    "\n",
    "print(state.matrix)\n",
    "goal_state = State(np.array([i for i in range(1, PUZZLE_DIM**2)] + [0]).reshape((PUZZLE_DIM, PUZZLE_DIM)))\n",
    "\n",
    "if  (state.is_solvable()):\n",
    "    #solution = ida_star(state,goal_state, wd_heuristic.calculate)\n",
    "    solution = ida_star(state,goal_state, manhattan_heuristic)\n",
    "    print_solution(solution)\n",
    "else:\n",
    "    print(\"not Solvable\")"
   ]
  }
 ],
 "metadata": {
  "kernelspec": {
   "display_name": "venv",
   "language": "python",
   "name": "python3"
  },
  "language_info": {
   "codemirror_mode": {
    "name": "ipython",
    "version": 3
   },
   "file_extension": ".py",
   "mimetype": "text/x-python",
   "name": "python",
   "nbconvert_exporter": "python",
   "pygments_lexer": "ipython3",
   "version": "3.12.7"
  }
 },
 "nbformat": 4,
 "nbformat_minor": 2
}
