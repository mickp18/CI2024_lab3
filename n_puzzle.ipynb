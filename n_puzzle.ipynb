{
 "cells": [
  {
   "cell_type": "markdown",
   "metadata": {},
   "source": [
    "# n-puzzle problem"
   ]
  },
  {
   "cell_type": "code",
   "execution_count": 219,
   "metadata": {},
   "outputs": [],
   "source": [
    "from collections import namedtuple\n",
    "from random import choice\n",
    "from tqdm.auto import tqdm\n",
    "import numpy as np\n",
    "import functools"
   ]
  },
  {
   "cell_type": "code",
   "execution_count": 220,
   "metadata": {},
   "outputs": [],
   "source": [
    "PUZZLE_DIM = 3\n",
    "action = namedtuple('Action', ['pos1', 'pos2'])"
   ]
  },
  {
   "cell_type": "markdown",
   "metadata": {},
   "source": [
    "## Utility functions"
   ]
  },
  {
   "cell_type": "code",
   "execution_count": 221,
   "metadata": {},
   "outputs": [],
   "source": [
    "def counter(fn):\n",
    "    \"\"\"Simple decorator for counting number of calls\"\"\"\n",
    "\n",
    "    @functools.wraps(fn)\n",
    "    def helper(*args, **kargs):\n",
    "        helper.calls += 1\n",
    "        return fn(*args, **kargs)\n",
    "\n",
    "    helper.calls = 0\n",
    "    return helper"
   ]
  },
  {
   "cell_type": "code",
   "execution_count": 222,
   "metadata": {},
   "outputs": [],
   "source": [
    "class State :\n",
    "    def __init__(self, matrix: np.ndarray):\n",
    "        self.matrix = matrix\n",
    "        self.g = float('inf') #cost root to current\n",
    "        self.f = float('inf') #cost root to goal\n",
    "        self.h = float('inf') #heuristic : estimated cost from current to goal\n",
    "\n",
    "    #check if the current state contains a matrix that represents the solution\n",
    "    def is_goal(self):\n",
    "        return np.array_equal(self.matrix, np.array([i for i in range(1, PUZZLE_DIM**2)] + [0]).reshape((PUZZLE_DIM, PUZZLE_DIM)))\n",
    "\n",
    "class Path:\n",
    "    def __init__(self):\n",
    "        self.path = []\n",
    "\n",
    "    def push(self, item):\n",
    "        self.path.append(item)\n",
    "\n",
    "    def pop(self):\n",
    "        if self.is_empty():\n",
    "            raise IndexError(\"path is empty\")\n",
    "        return self.path.pop()\n",
    "\n",
    "    def last(self):\n",
    "        if self.is_empty():\n",
    "            raise IndexError(\"path is empty\")\n",
    "        return self.path[-1]\n",
    "\n",
    "    def is_empty(self):\n",
    "        return len(self.path) == 0"
   ]
  },
  {
   "cell_type": "code",
   "execution_count": 223,
   "metadata": {},
   "outputs": [],
   "source": [
    "def cost_root_to_current(path : list):\n",
    "    return len(path)\n",
    "\n",
    "def manhattan_heuristic(state:State,goal_state:State)->int:\n",
    "    distance = 0\n",
    "    for elem in range(1,PUZZLE_DIM**2):\n",
    "        start_coords = np.where(state.matrix == elem)\n",
    "        end_coords = np.where(goal_state.matrix == elem)\n",
    "        distance+=  abs(start_coords[0]-end_coords[0])+abs(start_coords[1]-end_coords[1])\n",
    "    return distance\n",
    "\n",
    "\n",
    "def available_actions(state: State) -> list['Action']:\n",
    "    x, y = [int(_[0]) for _ in np.where(state.matrix == 0)]\n",
    "    actions = list()\n",
    "    if x > 0:\n",
    "        actions.append(action((x, y), (x - 1, y)))\n",
    "    if x < PUZZLE_DIM - 1:\n",
    "        actions.append(action((x, y), (x + 1, y)))\n",
    "    if y > 0:\n",
    "        actions.append(action((x, y), (x, y - 1)))\n",
    "    if y < PUZZLE_DIM - 1:\n",
    "        actions.append(action((x, y), (x, y + 1)))\n",
    "    return actions\n",
    "\n",
    "\n",
    "@counter\n",
    "def do_action(state: State, action: 'Action') -> State:\n",
    "    new_state = state.matrix.copy()\n",
    "    new_state[action.pos1], new_state[action.pos2] = new_state[action.pos2], new_state[action.pos1]\n",
    "    return State(new_state)\n",
    "\n",
    "def print_solution(solution : tuple[Path,int]):\n",
    "    if solution[0] == None:\n",
    "        print(\"No solution was found\")\n",
    "    else:\n",
    "        print(f\"Solution was found in {len(solution[0].path)} steps with cost of {do_action.calls}\")\n",
    "        print(\"Solution path:\")\n",
    "        for state in solution[0].path:\n",
    "            print(state.matrix)\n",
    "            print()\n"
   ]
  },
  {
   "cell_type": "code",
   "execution_count": 224,
   "metadata": {},
   "outputs": [
    {
     "name": "stdout",
     "output_type": "stream",
     "text": [
      "[[4 5 3]\n",
      " [0 2 6]\n",
      " [7 8 1]]\n"
     ]
    }
   ],
   "source": [
    "# test manhattan heuristic\n",
    "state = State(test)\n",
    "# goal_state = State(np.array([i for i in range(1, PUZZLE_DIM**2)] + [0]).reshape((PUZZLE_DIM, PUZZLE_DIM)))\n",
    "# print(state.matrix)\n",
    "# print(goal_state.matrix)\n",
    "\n",
    "# print(manhattan_heuristic(state,goal_state))\n",
    "\n",
    "# print(available_actions(state))\n",
    "# choose action\n",
    "# lowest_heuristic = 100\n",
    "# best_action = None\n",
    "# for action in available_actions(state):\n",
    "#     new_state = do_action(state.matrix,action)\n",
    "#     heuristic = manhattan_heuristic(State(new_state),goal_state)\n",
    "#     print(heuristic)\n",
    "#     if heuristic < lowest_heuristic:\n",
    "#         lowest_heuristic = heuristic\n",
    "#         best_action = action\n",
    "\n",
    "# print(best_action)\n",
    "\n",
    "# new_state = do_action(state.matrix,best_action)\n",
    "print(new_state)"
   ]
  },
  {
   "cell_type": "code",
   "execution_count": 225,
   "metadata": {},
   "outputs": [
    {
     "data": {
      "application/vnd.jupyter.widget-view+json": {
       "model_id": "7f1a02a89f964d5eb2541a63fc4d4fc9",
       "version_major": 2,
       "version_minor": 0
      },
      "text/plain": [
       "Randomizing:   0%|          | 0/100000 [00:00<?, ?it/s]"
      ]
     },
     "metadata": {},
     "output_type": "display_data"
    },
    {
     "data": {
      "text/plain": [
       "array([[3, 6, 7],\n",
       "       [2, 0, 1],\n",
       "       [4, 8, 5]])"
      ]
     },
     "execution_count": 225,
     "metadata": {},
     "output_type": "execute_result"
    }
   ],
   "source": [
    "RANDOMIZE_STEPS = 100_000\n",
    "state = State(np.array([i for i in range(1, PUZZLE_DIM**2)] + [0]).reshape((PUZZLE_DIM, PUZZLE_DIM)))\n",
    "for r in tqdm(range(RANDOMIZE_STEPS), desc='Randomizing'):\n",
    "    state = do_action(state, choice(available_actions(state)))\n",
    "state.matrix"
   ]
  },
  {
   "cell_type": "markdown",
   "metadata": {},
   "source": [
    "## IDA*"
   ]
  },
  {
   "cell_type": "code",
   "execution_count": 226,
   "metadata": {},
   "outputs": [],
   "source": [
    "# takes as parameter a state and a heuristic function\n",
    "def ida_star(initial_state : State, goal_state : State, heuristic):\n",
    "    bound = heuristic(initial_state,goal_state)\n",
    "    path = Path()\n",
    "    path.push(initial_state)\n",
    "\n",
    "    while True:\n",
    "        t = search(path, 0, bound, heuristic, goal_state)\n",
    "        if t < 0: ## FOUND = -1\n",
    "            return (path, bound)\n",
    "        elif t == float('inf'):\n",
    "            return (None, float('inf')) \n",
    "        else: # t belongs to [0,inf[\n",
    "            bound = t\n",
    "           # path.push(t)\n",
    "\n",
    "def search(path : Path, g : float, bound : int, h, goal_state : State) :\n",
    "    node = path.last()\n",
    "    f = g + h(node, goal_state)\n",
    "    if f > bound :\n",
    "        return f\n",
    "    if node.is_goal():\n",
    "        return -1 # FOUND\n",
    "    \n",
    "    min = float('inf')\n",
    "\n",
    "    for action in available_actions(node):\n",
    "        successor = do_action(node, action)\n",
    "        if successor not in path.path:\n",
    "            path.push(successor)\n",
    "            t = search(path,cost_root_to_current(path.path), bound, h, goal_state)\n",
    "            if t == -1:\n",
    "                return -1\n",
    "            if t < min :\n",
    "                min = t\n",
    "            path.pop()\n",
    "        \n",
    "\n",
    "\n",
    "\n",
    "    return min"
   ]
  },
  {
   "cell_type": "code",
   "execution_count": null,
   "metadata": {},
   "outputs": [
    {
     "name": "stdout",
     "output_type": "stream",
     "text": [
      "[[0 2 1]\n",
      " [3 7 5]\n",
      " [8 6 4]]\n",
      "[[1 2 3]\n",
      " [4 5 6]\n",
      " [7 8 0]]\n",
      "Solution was found in 23 steps with cost of 255164\n",
      "Solution path:\n",
      "[[0 2 1]\n",
      " [3 7 5]\n",
      " [8 6 4]]\n",
      "\n",
      "[[3 2 1]\n",
      " [0 7 5]\n",
      " [8 6 4]]\n",
      "\n",
      "[[3 2 1]\n",
      " [7 0 5]\n",
      " [8 6 4]]\n",
      "\n",
      "[[3 0 1]\n",
      " [7 2 5]\n",
      " [8 6 4]]\n",
      "\n",
      "[[3 1 0]\n",
      " [7 2 5]\n",
      " [8 6 4]]\n",
      "\n",
      "[[3 1 5]\n",
      " [7 2 0]\n",
      " [8 6 4]]\n",
      "\n",
      "[[3 1 5]\n",
      " [7 2 4]\n",
      " [8 6 0]]\n",
      "\n",
      "[[3 1 5]\n",
      " [7 2 4]\n",
      " [8 0 6]]\n",
      "\n",
      "[[3 1 5]\n",
      " [7 2 4]\n",
      " [0 8 6]]\n",
      "\n",
      "[[3 1 5]\n",
      " [0 2 4]\n",
      " [7 8 6]]\n",
      "\n",
      "[[3 1 5]\n",
      " [2 0 4]\n",
      " [7 8 6]]\n",
      "\n",
      "[[3 0 5]\n",
      " [2 1 4]\n",
      " [7 8 6]]\n",
      "\n",
      "[[0 3 5]\n",
      " [2 1 4]\n",
      " [7 8 6]]\n",
      "\n",
      "[[2 3 5]\n",
      " [0 1 4]\n",
      " [7 8 6]]\n",
      "\n",
      "[[2 3 5]\n",
      " [1 0 4]\n",
      " [7 8 6]]\n",
      "\n",
      "[[2 3 5]\n",
      " [1 4 0]\n",
      " [7 8 6]]\n",
      "\n",
      "[[2 3 0]\n",
      " [1 4 5]\n",
      " [7 8 6]]\n",
      "\n",
      "[[2 0 3]\n",
      " [1 4 5]\n",
      " [7 8 6]]\n",
      "\n",
      "[[0 2 3]\n",
      " [1 4 5]\n",
      " [7 8 6]]\n",
      "\n",
      "[[1 2 3]\n",
      " [0 4 5]\n",
      " [7 8 6]]\n",
      "\n",
      "[[1 2 3]\n",
      " [4 0 5]\n",
      " [7 8 6]]\n",
      "\n",
      "[[1 2 3]\n",
      " [4 5 0]\n",
      " [7 8 6]]\n",
      "\n",
      "[[1 2 3]\n",
      " [4 5 6]\n",
      " [7 8 0]]\n",
      "\n"
     ]
    }
   ],
   "source": [
    "# easy solvable solution\n",
    "#state = State(np.array([np.array([1,8,2]),np.array([0,4,3]),np.array([7,6,5])]))\n",
    "#state = State(np.array([np.array([0,2,1]),np.array([3,7,5]),np.array([8,6,4])]))\n",
    "state = np.array([[13,  9,  0, 10, 19],\n",
    "[ 3, 21, 14,  5,  8],\n",
    "[22, 16,  4, 24, 18],\n",
    "[ 6,  2, 11,  1, 20],\n",
    "[ 7, 15,23,12,17]])\n",
    "state = State(state)\n",
    "\n",
    "\n",
    "goal_state = State(np.array([i for i in range(1, PUZZLE_DIM**2)] + [0]).reshape((PUZZLE_DIM, PUZZLE_DIM)))\n",
    "print(state.matrix)\n",
    "print(goal_state.matrix)\n",
    "\n",
    "solution = ida_star(state,goal_state, manhattan_heuristic)\n",
    "print_solution(solution)\n",
    "\n",
    "\n"
   ]
  }
 ],
 "metadata": {
  "kernelspec": {
   "display_name": "venv",
   "language": "python",
   "name": "python3"
  },
  "language_info": {
   "codemirror_mode": {
    "name": "ipython",
    "version": 3
   },
   "file_extension": ".py",
   "mimetype": "text/x-python",
   "name": "python",
   "nbconvert_exporter": "python",
   "pygments_lexer": "ipython3",
   "version": "3.12.7"
  }
 },
 "nbformat": 4,
 "nbformat_minor": 2
}
